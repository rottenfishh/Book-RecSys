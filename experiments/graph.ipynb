{
 "cells": [
  {
   "cell_type": "markdown",
   "metadata": {},
   "source": [
    "Simple solution building the graph based on author being referenced in description."
   ]
  },
  {
   "cell_type": "code",
   "execution_count": 2,
   "metadata": {},
   "outputs": [],
   "source": [
    "import sys\n",
    "import os\n",
    "\n",
    "PROJECT_ROOT = os.path.abspath(os.path.join(os.getcwd(), \"..\"))\n",
    "if PROJECT_ROOT not in sys.path:\n",
    "    sys.path.insert(0, PROJECT_ROOT)"
   ]
  },
  {
   "cell_type": "code",
   "execution_count": 3,
   "metadata": {},
   "outputs": [],
   "source": [
    "from src.models.modules import BookDescriptionEmbeddingSimilarity\n",
    "\n",
    "import networkx as nx\n",
    "import pandas as pd\n",
    "\n",
    "dataset_path =  os.path.join(PROJECT_ROOT,\"data/raw_data/LEHABOOKS.csv\")\n",
    "dataset = pd.read_csv(dataset_path)\n",
    "\n",
    "model_path = os.path.join(PROJECT_ROOT, \"data/embeddings/books_embeddings_dataset.npy\")\n",
    "model = BookDescriptionEmbeddingSimilarity(model_path)"
   ]
  },
  {
   "cell_type": "markdown",
   "metadata": {},
   "source": [
    "Load graph from json format"
   ]
  },
  {
   "cell_type": "code",
   "execution_count": 4,
   "metadata": {},
   "outputs": [],
   "source": [
    "import json\n",
    "from networkx.readwrite import json_graph\n",
    "\n",
    "def load_graph(relative_path) :\n",
    "    graph_path =  os.path.join(PROJECT_ROOT, relative_path)\n",
    "    with open(graph_path, \"r\") as f:\n",
    "        graph_data = json.load(f)\n",
    "\n",
    "    Graph = json_graph.node_link_graph(graph_data)\n",
    "    return Graph"
   ]
  },
  {
   "cell_type": "markdown",
   "metadata": {},
   "source": [
    "Build the graph based on author's references"
   ]
  },
  {
   "cell_type": "code",
   "execution_count": 5,
   "metadata": {},
   "outputs": [],
   "source": [
    "def find_references_author(description, books, current_book):\n",
    "    references = []\n",
    "\n",
    "    for book in books:\n",
    "        author = book[\"Authors\"]\n",
    "        if pd.isna(author) or author is None:\n",
    "            continue \n",
    "\n",
    "        book_id = f\"{book['Title']} ({book['Authors']})\"\n",
    "\n",
    "        if book_id != current_book:\n",
    "            if author in description:  \n",
    "                references.append(book_id) \n",
    "    return references\n",
    "\n",
    "def build_graph():\n",
    "    G = nx.Graph()\n",
    "    books = dataset.to_dict(orient=\"records\")\n",
    "    book_lookup = {f\"{book['Title']} ({book['Authors']})\": book for book in books}\n",
    "\n",
    "    for book in books:\n",
    "        book_id = f\"{book['Title']} ({book['Authors']})\"\n",
    "        G.add_node(book_id, data=book)  \n",
    "\n",
    "    for book in books:\n",
    "        current_book = f\"{book['Title']} ({book['Authors']})\"\n",
    "        description = book['Description']\n",
    "        references = find_references_author(description, books, current_book)\n",
    "\n",
    "        for ref in references:\n",
    "            if ref in book_lookup:\n",
    "                G.add_edge(current_book, ref)\n",
    "    return G"
   ]
  },
  {
   "cell_type": "markdown",
   "metadata": {},
   "source": [
    "Find references by titles(or try to)"
   ]
  },
  {
   "cell_type": "code",
   "execution_count": 6,
   "metadata": {},
   "outputs": [],
   "source": [
    "def is_multi_word(title):\n",
    "    return len(title.split()) > 1\n",
    "\n",
    "def find_references_title(description, books, current_book):\n",
    "    references = []\n",
    "\n",
    "    for book in books:\n",
    "        author = book[\"Authors\"]\n",
    "        title = book[\"Title\"]\n",
    "        if pd.isna(author) or author is None:\n",
    "            continue \n",
    "\n",
    "        book_id = f\"{book['Title']} ({book['Authors']})\"\n",
    "\n",
    "        if book_id != current_book and len(title) > 3 and is_multi_word(title):\n",
    "            if title in description:  \n",
    "                references.append(book_id) \n",
    "\n",
    "    return references"
   ]
  },
  {
   "cell_type": "markdown",
   "metadata": {},
   "source": [
    "Save the graph in json format."
   ]
  },
  {
   "cell_type": "code",
   "execution_count": 7,
   "metadata": {},
   "outputs": [],
   "source": [
    "def save_graph(graph, relative_path):\n",
    "    save_path =  os.path.join(PROJECT_ROOT, relative_path)\n",
    "    graph_data = json_graph.node_link_data(graph)\n",
    "    with open(save_path, \"w\") as f:\n",
    "        json.dump(graph_data, f, indent=4)"
   ]
  },
  {
   "cell_type": "markdown",
   "metadata": {},
   "source": [
    "Find neighbours of book by its title"
   ]
  },
  {
   "cell_type": "code",
   "execution_count": 8,
   "metadata": {},
   "outputs": [],
   "source": [
    "def find_neighbors_title(Graph, title):\n",
    "    matching_nodes = [node for node in Graph.nodes if node.startswith(f\"{title} (\")]\n",
    "    all_neighbors = set()  \n",
    "    \n",
    "    for node in matching_nodes:\n",
    "        neighbors = list(Graph.neighbors(node))\n",
    "        all_neighbors.update(neighbors)\n",
    "    \n",
    "    titles = [neighbor.rsplit(\" (\", 1)[0] for neighbor in all_neighbors]\n",
    "    return titles"
   ]
  },
  {
   "cell_type": "code",
   "execution_count": 9,
   "metadata": {},
   "outputs": [],
   "source": [
    "def print_all_nodes(Graph):\n",
    "    for node in Graph.nodes():\n",
    "        if len(list(Graph.neighbors(node))) > 0: \n",
    "            print(f\"{node} references: {list(Graph.neighbors(node))}\")"
   ]
  },
  {
   "cell_type": "markdown",
   "metadata": {},
   "source": [
    "Find the books that have the biggest number of common neighbours with a given book"
   ]
  },
  {
   "cell_type": "code",
   "execution_count": 10,
   "metadata": {},
   "outputs": [],
   "source": [
    "def find_most_neighbors(Graph, title, n = 10):\n",
    "    neighbors = set(find_neighbors_title(Graph, title))\n",
    "    shared_neighbors = {b: len(neighbors & set(find_neighbors_title(Graph, b))) for b in neighbors}\n",
    "    sorted_neighbors = sorted(shared_neighbors.items(), key=lambda x: x[1], reverse=True)\n",
    "    return sorted_neighbors[:n]"
   ]
  },
  {
   "cell_type": "markdown",
   "metadata": {},
   "source": [
    "Find closest books(embeddings + shared neighbours)"
   ]
  },
  {
   "cell_type": "code",
   "execution_count": 78,
   "metadata": {},
   "outputs": [],
   "source": [
    "import numpy as np\n",
    "\n",
    "def find_closest_books(title, n = 20):\n",
    "    Graph = load_graph(\"data/graphs/book_graph.json\")\n",
    "\n",
    "    predicted = model.recommend_by_title(title, n + 1)  \n",
    "\n",
    "    neighbors = find_neighbors_title(Graph, title)\n",
    "\n",
    "    embedding = None\n",
    "    for i in model.model:\n",
    "        if i[0] == title:  \n",
    "            embedding = np.array(i[1:], dtype=np.float32)\n",
    "            break\n",
    "\n",
    "    if embedding is None:\n",
    "        raise ValueError(f\"Title '{title}' not found in the model.\")\n",
    "\n",
    "    neighbor_scores = {}\n",
    "    for neighbor in neighbors:\n",
    "        if neighbor == title: \n",
    "            continue\n",
    "\n",
    "        neighbor_embedding = None\n",
    "        for i in model.model:\n",
    "            if i[0] == neighbor:  \n",
    "                neighbor_embedding = np.array(i[1:], dtype=np.float32)\n",
    "                break\n",
    "\n",
    "        if neighbor_embedding is None:\n",
    "            continue \n",
    "\n",
    "        norm_embedding = np.linalg.norm(embedding)\n",
    "        norm_neighbor = np.linalg.norm(neighbor_embedding)\n",
    "        similarity = np.dot(embedding, neighbor_embedding) / (norm_embedding * norm_neighbor) if norm_embedding and norm_neighbor else 0\n",
    "\n",
    "        neighbor_scores[neighbor] = similarity\n",
    "\n",
    "    sorted_neighbors = sorted(neighbor_scores.items(), key=lambda x: -x[1])[:10]  \n",
    "\n",
    "    combined = {}\n",
    "\n",
    "    for book, score in predicted:\n",
    "        if book != title:  \n",
    "            combined[book] = score  \n",
    "\n",
    "    for book, similarity in sorted_neighbors:\n",
    "        if book in combined:\n",
    "            combined[book] = max(combined[book], similarity)  \n",
    "        else:\n",
    "            combined[book] = similarity  \n",
    "\n",
    "    sorted_books = sorted(combined.items(), key=lambda x: -x[1])\n",
    "\n",
    "    return [(book, score) for book, score in sorted_books[:n]]\n"
   ]
  },
  {
   "cell_type": "code",
   "execution_count": 81,
   "metadata": {},
   "outputs": [
    {
     "data": {
      "text/plain": [
       "[('Superluminal', np.float32(0.95735115)),\n",
       " ('Metaplanetary', np.float32(0.95497215)),\n",
       " ('Moonwar H', np.float32(0.9478443)),\n",
       " ('Vacuum Diagrams', np.float32(0.94667035)),\n",
       " ('The Wreck of the River of Stars', np.float32(0.9449295)),\n",
       " ('Prelude to Foundation', np.float32(0.9446789)),\n",
       " ('Star Wars', np.float32(0.943509)),\n",
       " ('Lost in Transmission', np.float32(0.9424872)),\n",
       " ('Pebble in the Sky', np.float32(0.9411377)),\n",
       " ('Excession', np.float32(0.9408336)),\n",
       " (\"Foundation's Fear\", np.float32(0.94065976)),\n",
       " ('The Ringworld Throne', np.float32(0.94043005)),\n",
       " ('Souls in the Great Machine', np.float32(0.9403687)),\n",
       " ('The Labyrinth Key', np.float32(0.94022304)),\n",
       " ('The Stand', np.float32(0.93991613)),\n",
       " (\"Infinity's Shore\", np.float32(0.93970543)),\n",
       " ('Hyperion', np.float32(0.9396297)),\n",
       " ('Dune: The Machine Crusade', np.float32(0.93862253)),\n",
       " ('Atlas Shrugged', np.float32(0.91931033)),\n",
       " ('1984', np.float32(0.9189502))]"
      ]
     },
     "execution_count": 81,
     "metadata": {},
     "output_type": "execute_result"
    }
   ],
   "source": [
    "find_closest_books(\"We\")"
   ]
  }
 ],
 "metadata": {
  "kernelspec": {
   "display_name": "Python 3",
   "language": "python",
   "name": "python3"
  },
  "language_info": {
   "codemirror_mode": {
    "name": "ipython",
    "version": 3
   },
   "file_extension": ".py",
   "mimetype": "text/x-python",
   "name": "python",
   "nbconvert_exporter": "python",
   "pygments_lexer": "ipython3",
   "version": "3.12.6"
  }
 },
 "nbformat": 4,
 "nbformat_minor": 2
}
