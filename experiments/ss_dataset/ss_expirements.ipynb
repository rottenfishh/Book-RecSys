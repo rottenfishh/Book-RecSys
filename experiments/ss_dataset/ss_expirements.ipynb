{
 "cells": [
  {
   "cell_type": "code",
   "execution_count": 1,
   "metadata": {},
   "outputs": [],
   "source": [
    "import sys\n",
    "import os\n",
    "import pandas as pd\n",
    "\n",
    "PROJECT_ROOT = os.path.abspath(os.path.join(os.getcwd(), \"..\"))\n",
    "if PROJECT_ROOT not in sys.path:\n",
    "    sys.path.insert(0, PROJECT_ROOT)"
   ]
  },
  {
   "cell_type": "markdown",
   "metadata": {},
   "source": [
    "### Load datasets"
   ]
  },
  {
   "cell_type": "code",
   "execution_count": 2,
   "metadata": {},
   "outputs": [
    {
     "data": {
      "text/plain": [
       "((212404, 10), (3000000, 10))"
      ]
     },
     "execution_count": 2,
     "metadata": {},
     "output_type": "execute_result"
    }
   ],
   "source": [
    "DATA_PATH = os.path.join(PROJECT_ROOT, \"data\", \"raw_data\", \"kaggle_second_sem\")\n",
    "PATH_BOOKS = os.path.join(DATA_PATH, \"books_data.csv\")\n",
    "PATH_RATINGS = os.path.join(DATA_PATH, \"books_rating.csv\")\n",
    "\n",
    "df_books = pd.read_csv(PATH_BOOKS)\n",
    "df_ratings = pd.read_csv(PATH_RATINGS)\n",
    "\n",
    "df_books.shape, df_ratings.shape"
   ]
  },
  {
   "cell_type": "markdown",
   "metadata": {},
   "source": [
    "### Produce simple embeddings\n",
    "Consist of:\n",
    "- book_id \n",
    "- author label encoding \n",
    "- genre label encoding\n",
    "- embedding of the description text"
   ]
  },
  {
   "cell_type": "code",
   "execution_count": 23,
   "metadata": {},
   "outputs": [
    {
     "name": "stdout",
     "output_type": "stream",
     "text": [
      "cpu\n"
     ]
    }
   ],
   "source": [
    "# importing libraries\n",
    "import random\n",
    "import torch\n",
    "from transformers import BertTokenizer, BertModel\n",
    "\n",
    "# Setup torch\n",
    "random_seed = 42\n",
    "random.seed(random_seed)\n",
    "torch.manual_seed(random_seed)\n",
    "if torch.cuda.is_available():\n",
    "    print(\"gpu\")\n",
    "    torch.cuda.manual_seed_all(random_seed)\n",
    "else:\n",
    "    print(\"cpu\")\n",
    "device = torch.device('cuda' if torch.cuda.is_available() else 'cpu')\n",
    "\n",
    "# Load BERT tokenizer and model\n",
    "tokenizer = BertTokenizer.from_pretrained('bert-base-uncased')\n",
    "model = BertModel.from_pretrained('bert-base-uncased').to(device)\n",
    "\n",
    "\n",
    "# Define function to get text embedding\n",
    "def produce_text_embedding(text):\n",
    "    encoding = tokenizer.batch_encode_plus(\n",
    "        [text],\n",
    "        padding=True,              \n",
    "        truncation=True,           \n",
    "        return_tensors='pt',      \n",
    "        add_special_tokens=True    \n",
    "    )\n",
    "\n",
    "    input_ids = encoding['input_ids'].to(device)\n",
    "    attention_mask = encoding['attention_mask'].to(device)\n",
    "\n",
    "    with torch.no_grad():\n",
    "        outputs = model(input_ids, attention_mask=attention_mask)\n",
    "        word_embeddings = outputs.last_hidden_state  \n",
    "\n",
    "    sentence_embedding = word_embeddings.mean(dim=1)\n",
    "\n",
    "    return sentence_embedding.to(device) "
   ]
  },
  {
   "cell_type": "code",
   "execution_count": null,
   "metadata": {},
   "outputs": [
    {
     "name": "stdout",
     "output_type": "stream",
     "text": [
      "Using device: cpu\n"
     ]
    }
   ],
   "source": [
    "import pandas as pd\n",
    "import numpy as np\n",
    "from transformers import AutoTokenizer, AutoModel\n",
    "import torch\n",
    "from sklearn.preprocessing import LabelEncoder\n",
    "\n",
    "# Определяем устройство (CPU или GPU)\n",
    "device = torch.device(\"cuda\" if torch.cuda.is_available() else \"cpu\")\n",
    "print(f\"Using device: {device}\")\n",
    "\n",
    "df_books[\"Id\"] = df_books.index\n",
    "df_books[\"Description\"] = df_books[\"description\"].fillna(\"No description\")\n",
    "\n",
    "labelEncoder = LabelEncoder()\n",
    "df_books[\"Author_id\"] = labelEncoder.fit_transform(df_books[\"authors\"])\n",
    "df_books[\"Genre_id\"] = labelEncoder.fit_transform(df_books[\"categories\"])\n",
    "\n",
    "model_name = \"bert-base-uncased\"\n",
    "tokenizer = AutoTokenizer.from_pretrained(model_name)\n",
    "model = AutoModel.from_pretrained(model_name).to(device)\n",
    "\n",
    "def get_book_embedding(row):\n",
    "    description = row['Description']\n",
    "    author_id = [row['Author_id']]\n",
    "    genre_id = [row['Genre_id']]\n",
    "    books_id = [row['Id']]\n",
    "\n",
    "    if(books_id[0] % 1000 == 0):\n",
    "        print(books_id[0])\n",
    "\n",
    "    text_embedding = produce_text_embedding(description)\n",
    "\n",
    "    text_embedding = torch.Tensor.cpu(text_embedding.squeeze(0))\n",
    "    combined_embedding = np.concatenate([books_id, author_id, genre_id, text_embedding])\n",
    "    return combined_embedding\n",
    "\n",
    "df_books['Embedding'] = df_books.apply(get_book_embedding, axis=1)\n",
    "\n",
    "embeddings_matrix = np.vstack(df_books['Embedding'].values)\n",
    "np.save(\"/kaggle/working/primitive_embeddings.npy\", embeddings_matrix)\n",
    "\n",
    "print(embeddings_matrix.shape)\n",
    "print(embeddings_matrix)\n"
   ]
  },
  {
   "cell_type": "markdown",
   "metadata": {},
   "source": [
    "### Generate user's ratings sequences"
   ]
  },
  {
   "cell_type": "code",
   "execution_count": 4,
   "metadata": {},
   "outputs": [
    {
     "data": {
      "text/plain": [
       "((3000000, 10), 1008972, (1008972, 2), (36677, 2))"
      ]
     },
     "execution_count": 4,
     "metadata": {},
     "output_type": "execute_result"
    }
   ],
   "source": [
    "user_id_agg = df_ratings.groupby([\"User_id\"])[\"Title\"].agg(list).reset_index()\n",
    "user_id_agg.rename(columns={\"Title\": \"Titles\"}, inplace=True)\n",
    "user_id_agg_cut = user_id_agg[user_id_agg[\"Titles\"].map(len) > 8]\n",
    "\n",
    "df_ratings.shape, user_id_agg[\"User_id\"].nunique(), user_id_agg.shape, user_id_agg_cut.shape"
   ]
  },
  {
   "cell_type": "code",
   "execution_count": 7,
   "metadata": {},
   "outputs": [
    {
     "data": {
      "text/html": [
       "<div>\n",
       "<style scoped>\n",
       "    .dataframe tbody tr th:only-of-type {\n",
       "        vertical-align: middle;\n",
       "    }\n",
       "\n",
       "    .dataframe tbody tr th {\n",
       "        vertical-align: top;\n",
       "    }\n",
       "\n",
       "    .dataframe thead th {\n",
       "        text-align: right;\n",
       "    }\n",
       "</style>\n",
       "<table border=\"1\" class=\"dataframe\">\n",
       "  <thead>\n",
       "    <tr style=\"text-align: right;\">\n",
       "      <th></th>\n",
       "      <th>User_id</th>\n",
       "      <th>Titles</th>\n",
       "    </tr>\n",
       "  </thead>\n",
       "  <tbody>\n",
       "    <tr>\n",
       "      <th>0</th>\n",
       "      <td>A00109803PZJ91RLT7DPN</td>\n",
       "      <td>[This Calder Range (Calder Saga's)]</td>\n",
       "    </tr>\n",
       "    <tr>\n",
       "      <th>1</th>\n",
       "      <td>A00117421L76WVWG4UX95</td>\n",
       "      <td>[The Queen of Harlem: A Novel]</td>\n",
       "    </tr>\n",
       "    <tr>\n",
       "      <th>2</th>\n",
       "      <td>A0015610VMNR0JC9XVL1</td>\n",
       "      <td>[The Richest Man in Babylon, The richest man i...</td>\n",
       "    </tr>\n",
       "    <tr>\n",
       "      <th>3</th>\n",
       "      <td>A002258237PFYJV336T05</td>\n",
       "      <td>[Swan Place]</td>\n",
       "    </tr>\n",
       "    <tr>\n",
       "      <th>4</th>\n",
       "      <td>A00264602WCXBHHFPLTQ4</td>\n",
       "      <td>[The Berenstain Bears and Too Much Vacation]</td>\n",
       "    </tr>\n",
       "    <tr>\n",
       "      <th>...</th>\n",
       "      <td>...</td>\n",
       "      <td>...</td>\n",
       "    </tr>\n",
       "    <tr>\n",
       "      <th>1008967</th>\n",
       "      <td>AZZZELE3I0CKD</td>\n",
       "      <td>[The New Complete Portuguese Water Dog (Howell...</td>\n",
       "    </tr>\n",
       "    <tr>\n",
       "      <th>1008968</th>\n",
       "      <td>AZZZJY3RMN57G</td>\n",
       "      <td>[River Thieves: A Novel]</td>\n",
       "    </tr>\n",
       "    <tr>\n",
       "      <th>1008969</th>\n",
       "      <td>AZZZT14MS21I6</td>\n",
       "      <td>[One More Bridge to Cross: Lowering the Cost o...</td>\n",
       "    </tr>\n",
       "    <tr>\n",
       "      <th>1008970</th>\n",
       "      <td>AZZZYCR4NZADZ</td>\n",
       "      <td>[Out, Out]</td>\n",
       "    </tr>\n",
       "    <tr>\n",
       "      <th>1008971</th>\n",
       "      <td>AZZZZW74AAX75</td>\n",
       "      <td>[The Unofficial Guideto Starting a Small Busin...</td>\n",
       "    </tr>\n",
       "  </tbody>\n",
       "</table>\n",
       "<p>1008972 rows × 2 columns</p>\n",
       "</div>"
      ],
      "text/plain": [
       "                       User_id  \\\n",
       "0        A00109803PZJ91RLT7DPN   \n",
       "1        A00117421L76WVWG4UX95   \n",
       "2         A0015610VMNR0JC9XVL1   \n",
       "3        A002258237PFYJV336T05   \n",
       "4        A00264602WCXBHHFPLTQ4   \n",
       "...                        ...   \n",
       "1008967          AZZZELE3I0CKD   \n",
       "1008968          AZZZJY3RMN57G   \n",
       "1008969          AZZZT14MS21I6   \n",
       "1008970          AZZZYCR4NZADZ   \n",
       "1008971          AZZZZW74AAX75   \n",
       "\n",
       "                                                    Titles  \n",
       "0                      [This Calder Range (Calder Saga's)]  \n",
       "1                           [The Queen of Harlem: A Novel]  \n",
       "2        [The Richest Man in Babylon, The richest man i...  \n",
       "3                                             [Swan Place]  \n",
       "4             [The Berenstain Bears and Too Much Vacation]  \n",
       "...                                                    ...  \n",
       "1008967  [The New Complete Portuguese Water Dog (Howell...  \n",
       "1008968                           [River Thieves: A Novel]  \n",
       "1008969  [One More Bridge to Cross: Lowering the Cost o...  \n",
       "1008970                                         [Out, Out]  \n",
       "1008971  [The Unofficial Guideto Starting a Small Busin...  \n",
       "\n",
       "[1008972 rows x 2 columns]"
      ]
     },
     "execution_count": 7,
     "metadata": {},
     "output_type": "execute_result"
    }
   ],
   "source": [
    "user_id_agg_copy = user_id_agg.copy()\n",
    "user_id_agg_copy"
   ]
  },
  {
   "cell_type": "code",
   "execution_count": 26,
   "metadata": {},
   "outputs": [],
   "source": [
    "title_to_id = dict(zip(df_books[\"Title\"], df_books[\"Id\"]))\n",
    "\n",
    "user_id_agg_copy[\"Titles\"] = user_id_agg_copy[\"Titles\"].apply(\n",
    "    lambda seq: [title_to_id.get(x, x) for x in seq]\n",
    ")\n"
   ]
  }
 ],
 "metadata": {
  "kernelspec": {
   "display_name": "Python (books)",
   "language": "python",
   "name": "books"
  },
  "language_info": {
   "codemirror_mode": {
    "name": "ipython",
    "version": 3
   },
   "file_extension": ".py",
   "mimetype": "text/x-python",
   "name": "python",
   "nbconvert_exporter": "python",
   "pygments_lexer": "ipython3",
   "version": "3.10.16"
  }
 },
 "nbformat": 4,
 "nbformat_minor": 2
}
