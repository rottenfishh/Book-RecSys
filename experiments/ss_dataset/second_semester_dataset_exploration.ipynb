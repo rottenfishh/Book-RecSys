{
 "cells": [
  {
   "cell_type": "code",
   "execution_count": 3,
   "metadata": {},
   "outputs": [],
   "source": [
    "import sys\n",
    "import os\n",
    "import pandas as pd\n",
    "\n",
    "PROJECT_ROOT = os.path.abspath(os.path.join(os.getcwd(), \"..\", \"..\"))\n",
    "if PROJECT_ROOT not in sys.path:\n",
    "    sys.path.insert(0, PROJECT_ROOT)"
   ]
  },
  {
   "cell_type": "code",
   "execution_count": 7,
   "metadata": {},
   "outputs": [],
   "source": [
    "DATA_PATH = os.path.join(PROJECT_ROOT, \"data\", \"raw_data\", \"kaggle_second_sem\")\n",
    "PATH_BOOKS = os.path.join(DATA_PATH, \"books_data.csv\")\n",
    "PATH_RATINGS = os.path.join(DATA_PATH, \"books_rating.csv\")\n",
    "PATH_LETOV = os.path.join(PROJECT_ROOT, \"data\", \"raw_data\", \"LEHABOOKS.csv\")\n",
    "\n",
    "df_books = pd.read_csv(PATH_BOOKS)\n",
    "df_ratings = pd.read_csv(PATH_RATINGS)\n",
    "df_letov = pd.read_csv(PATH_LETOV)"
   ]
  },
  {
   "cell_type": "code",
   "execution_count": 23,
   "metadata": {},
   "outputs": [
    {
     "name": "stdout",
     "output_type": "stream",
     "text": [
      "Index(['Title', 'description', 'authors', 'image', 'previewLink', 'publisher',\n",
      "       'publishedDate', 'infoLink', 'categories', 'ratingsCount'],\n",
      "      dtype='object')\n",
      "Index(['Title', 'Authors', 'Description', 'Category', 'Publisher', 'Publish'], dtype='object')\n"
     ]
    },
    {
     "data": {
      "text/plain": [
       "((212404, 10), (68944, 6))"
      ]
     },
     "execution_count": 23,
     "metadata": {},
     "output_type": "execute_result"
    }
   ],
   "source": [
    "print(df_books.columns)\n",
    "print( df_letov.columns)\n",
    "\n",
    "df_books.shape, df_letov.shape"
   ]
  },
  {
   "cell_type": "code",
   "execution_count": 24,
   "metadata": {},
   "outputs": [
    {
     "data": {
      "text/plain": [
       "Title             object\n",
       "description       object\n",
       "authors           object\n",
       "image             object\n",
       "previewLink       object\n",
       "publisher         object\n",
       "publishedDate     object\n",
       "infoLink          object\n",
       "categories        object\n",
       "ratingsCount     float64\n",
       "dtype: object"
      ]
     },
     "execution_count": 24,
     "metadata": {},
     "output_type": "execute_result"
    }
   ],
   "source": [
    "df_books.dtypes"
   ]
  },
  {
   "cell_type": "code",
   "execution_count": 9,
   "metadata": {},
   "outputs": [
    {
     "name": "stdout",
     "output_type": "stream",
     "text": [
      "15700\n"
     ]
    }
   ],
   "source": [
    "df_letov[\"Title\"] = df_letov[\"Title\"].str.lower()\n",
    "df_books[\"Title\"] = df_books[\"Title\"].str.lower()\n",
    "\n",
    "intersection_count = df_letov[\"Title\"].isin(df_books[\"Title\"]).sum()\n",
    "print(intersection_count)\n"
   ]
  },
  {
   "cell_type": "code",
   "execution_count": 11,
   "metadata": {},
   "outputs": [
    {
     "name": "stdout",
     "output_type": "stream",
     "text": [
      "Using cpu device\n"
     ]
    }
   ],
   "source": [
    "import torch\n",
    "device = torch.accelerator.current_accelerator().type if torch.accelerator.is_available() else \"cpu\"\n",
    "print(f\"Using {device} device\")"
   ]
  },
  {
   "cell_type": "code",
   "execution_count": 18,
   "metadata": {},
   "outputs": [
    {
     "name": "stdout",
     "output_type": "stream",
     "text": [
      "(212404, 10) (3000000, 10)\n",
      "Index(['Title', 'description', 'authors', 'image', 'previewLink', 'publisher',\n",
      "       'publishedDate', 'infoLink', 'categories', 'ratingsCount'],\n",
      "      dtype='object')\n",
      "Index(['Id', 'Title', 'Price', 'User_id', 'profileName', 'review/helpfulness',\n",
      "       'review/score', 'review/time', 'review/summary', 'review/text'],\n",
      "      dtype='object')\n"
     ]
    },
    {
     "data": {
      "text/plain": [
       "0.33632433333333334"
      ]
     },
     "execution_count": 18,
     "metadata": {},
     "output_type": "execute_result"
    }
   ],
   "source": [
    "print(df_books.shape, df_ratings.shape)\n",
    "print(df_books.columns) \n",
    "print(df_ratings.columns)\n",
    "\n",
    "df_ratings[\"User_id\"].unique().shape[0]/df_ratings[\"User_id\"].shape[0]"
   ]
  },
  {
   "cell_type": "code",
   "execution_count": 22,
   "metadata": {},
   "outputs": [
    {
     "data": {
      "text/html": [
       "<div>\n",
       "<style scoped>\n",
       "    .dataframe tbody tr th:only-of-type {\n",
       "        vertical-align: middle;\n",
       "    }\n",
       "\n",
       "    .dataframe tbody tr th {\n",
       "        vertical-align: top;\n",
       "    }\n",
       "\n",
       "    .dataframe thead th {\n",
       "        text-align: right;\n",
       "    }\n",
       "</style>\n",
       "<table border=\"1\" class=\"dataframe\">\n",
       "  <thead>\n",
       "    <tr style=\"text-align: right;\">\n",
       "      <th></th>\n",
       "      <th>Id</th>\n",
       "      <th>Title</th>\n",
       "      <th>Price</th>\n",
       "      <th>User_id</th>\n",
       "      <th>profileName</th>\n",
       "      <th>review/helpfulness</th>\n",
       "      <th>review/score</th>\n",
       "      <th>review/time</th>\n",
       "      <th>review/summary</th>\n",
       "      <th>review/text</th>\n",
       "    </tr>\n",
       "  </thead>\n",
       "  <tbody>\n",
       "    <tr>\n",
       "      <th>1</th>\n",
       "      <td>0826414346</td>\n",
       "      <td>Dr. Seuss: American Icon</td>\n",
       "      <td>NaN</td>\n",
       "      <td>A30TK6U7DNS82R</td>\n",
       "      <td>Kevin Killian</td>\n",
       "      <td>10/10</td>\n",
       "      <td>5.0</td>\n",
       "      <td>1095724800</td>\n",
       "      <td>Really Enjoyed It</td>\n",
       "      <td>I don't care much for Dr. Seuss but after read...</td>\n",
       "    </tr>\n",
       "    <tr>\n",
       "      <th>6</th>\n",
       "      <td>0826414346</td>\n",
       "      <td>Dr. Seuss: American Icon</td>\n",
       "      <td>NaN</td>\n",
       "      <td>A14OJS0VWMOSWO</td>\n",
       "      <td>Midwest Book Review</td>\n",
       "      <td>3/4</td>\n",
       "      <td>5.0</td>\n",
       "      <td>1100131200</td>\n",
       "      <td>A memorably excellent survey of Dr. Seuss' man...</td>\n",
       "      <td>Theodor Seuss Giesel was best known as 'Dr. Se...</td>\n",
       "    </tr>\n",
       "    <tr>\n",
       "      <th>59</th>\n",
       "      <td>0963923080</td>\n",
       "      <td>Rising Sons and Daughters: Life Among Japan's ...</td>\n",
       "      <td>NaN</td>\n",
       "      <td>A3NIQK6ZLYEP1L</td>\n",
       "      <td>Michael Valdivielso</td>\n",
       "      <td>0/0</td>\n",
       "      <td>4.0</td>\n",
       "      <td>1239667200</td>\n",
       "      <td>Almost a day by day view</td>\n",
       "      <td>Steven Wardell went to Japan without reading a...</td>\n",
       "    </tr>\n",
       "    <tr>\n",
       "      <th>61</th>\n",
       "      <td>0854968350</td>\n",
       "      <td>Muslim Women's Choices: Religious Belief and S...</td>\n",
       "      <td>NaN</td>\n",
       "      <td>ATDE9JYCPI0L1</td>\n",
       "      <td>Alyssa A. Lappen</td>\n",
       "      <td>0/0</td>\n",
       "      <td>2.0</td>\n",
       "      <td>1109808000</td>\n",
       "      <td>Oh dear</td>\n",
       "      <td>I was excited to find a book ostensibly about ...</td>\n",
       "    </tr>\n",
       "    <tr>\n",
       "      <th>140</th>\n",
       "      <td>0789480662</td>\n",
       "      <td>Eyewitness Travel Guide to Europe</td>\n",
       "      <td>NaN</td>\n",
       "      <td>A281NPSIMI1C2R</td>\n",
       "      <td>Rebecca of Amazon \"The Rebecca Review\"</td>\n",
       "      <td>19/19</td>\n",
       "      <td>5.0</td>\n",
       "      <td>1023235200</td>\n",
       "      <td>The Major Sights in Twenty Countries - Amazing!</td>\n",
       "      <td>Yes, this is one heavy book. It is more than l...</td>\n",
       "    </tr>\n",
       "  </tbody>\n",
       "</table>\n",
       "</div>"
      ],
      "text/plain": [
       "             Id                                              Title  Price  \\\n",
       "1    0826414346                           Dr. Seuss: American Icon    NaN   \n",
       "6    0826414346                           Dr. Seuss: American Icon    NaN   \n",
       "59   0963923080  Rising Sons and Daughters: Life Among Japan's ...    NaN   \n",
       "61   0854968350  Muslim Women's Choices: Religious Belief and S...    NaN   \n",
       "140  0789480662                  Eyewitness Travel Guide to Europe    NaN   \n",
       "\n",
       "            User_id                             profileName  \\\n",
       "1    A30TK6U7DNS82R                           Kevin Killian   \n",
       "6    A14OJS0VWMOSWO                     Midwest Book Review   \n",
       "59   A3NIQK6ZLYEP1L                     Michael Valdivielso   \n",
       "61    ATDE9JYCPI0L1                        Alyssa A. Lappen   \n",
       "140  A281NPSIMI1C2R  Rebecca of Amazon \"The Rebecca Review\"   \n",
       "\n",
       "    review/helpfulness  review/score  review/time  \\\n",
       "1                10/10           5.0   1095724800   \n",
       "6                  3/4           5.0   1100131200   \n",
       "59                 0/0           4.0   1239667200   \n",
       "61                 0/0           2.0   1109808000   \n",
       "140              19/19           5.0   1023235200   \n",
       "\n",
       "                                        review/summary  \\\n",
       "1                                    Really Enjoyed It   \n",
       "6    A memorably excellent survey of Dr. Seuss' man...   \n",
       "59                            Almost a day by day view   \n",
       "61                                             Oh dear   \n",
       "140    The Major Sights in Twenty Countries - Amazing!   \n",
       "\n",
       "                                           review/text  \n",
       "1    I don't care much for Dr. Seuss but after read...  \n",
       "6    Theodor Seuss Giesel was best known as 'Dr. Se...  \n",
       "59   Steven Wardell went to Japan without reading a...  \n",
       "61   I was excited to find a book ostensibly about ...  \n",
       "140  Yes, this is one heavy book. It is more than l...  "
      ]
     },
     "execution_count": 22,
     "metadata": {},
     "output_type": "execute_result"
    }
   ],
   "source": [
    "user_counts = df_ratings.groupby('User_id').size()\n",
    "filtered_user_ids = user_counts[user_counts > 50].index\n",
    "filtered_df = df_ratings[df_ratings['User_id'].isin(filtered_user_ids)]\n",
    "\n",
    "filtered_df[\"User_id\"].unique().shape\n",
    "\n",
    "filtered_df.head()"
   ]
  },
  {
   "cell_type": "code",
   "execution_count": 13,
   "metadata": {},
   "outputs": [
    {
     "data": {
      "text/plain": [
       "Title                 1\n",
       "description       68442\n",
       "authors           31413\n",
       "image             52075\n",
       "previewLink       23836\n",
       "publisher         75886\n",
       "publishedDate     25305\n",
       "infoLink          23836\n",
       "categories        41199\n",
       "ratingsCount     162652\n",
       "dtype: int64"
      ]
     },
     "execution_count": 13,
     "metadata": {},
     "output_type": "execute_result"
    }
   ],
   "source": [
    "df_books.isna().sum()"
   ]
  },
  {
   "cell_type": "code",
   "execution_count": 18,
   "metadata": {},
   "outputs": [
    {
     "data": {
      "text/html": [
       "<div>\n",
       "<style scoped>\n",
       "    .dataframe tbody tr th:only-of-type {\n",
       "        vertical-align: middle;\n",
       "    }\n",
       "\n",
       "    .dataframe tbody tr th {\n",
       "        vertical-align: top;\n",
       "    }\n",
       "\n",
       "    .dataframe thead th {\n",
       "        text-align: right;\n",
       "    }\n",
       "</style>\n",
       "<table border=\"1\" class=\"dataframe\">\n",
       "  <thead>\n",
       "    <tr style=\"text-align: right;\">\n",
       "      <th></th>\n",
       "      <th>Title</th>\n",
       "      <th>description</th>\n",
       "      <th>authors</th>\n",
       "      <th>image</th>\n",
       "      <th>previewLink</th>\n",
       "      <th>publisher</th>\n",
       "      <th>publishedDate</th>\n",
       "      <th>infoLink</th>\n",
       "      <th>categories</th>\n",
       "      <th>ratingsCount</th>\n",
       "    </tr>\n",
       "  </thead>\n",
       "  <tbody>\n",
       "    <tr>\n",
       "      <th>26834</th>\n",
       "      <td>The Alchemist</td>\n",
       "      <td>\"My heart is afraid that it will have to suffe...</td>\n",
       "      <td>['Paulo Coelho']</td>\n",
       "      <td>http://books.google.com/books/content?id=pTr44...</td>\n",
       "      <td>http://books.google.com/books?id=pTr44Sx6oWQC&amp;...</td>\n",
       "      <td>Harper Collins</td>\n",
       "      <td>2006-04-25</td>\n",
       "      <td>http://books.google.com/books?id=pTr44Sx6oWQC&amp;...</td>\n",
       "      <td>['Fiction']</td>\n",
       "      <td>4895.0</td>\n",
       "    </tr>\n",
       "    <tr>\n",
       "      <th>76345</th>\n",
       "      <td>Unbroken</td>\n",
       "      <td>#1 NEW YORK TIMES BESTSELLER • NOW A MAJOR MOT...</td>\n",
       "      <td>['Laura Hillenbrand']</td>\n",
       "      <td>http://books.google.com/books/content?id=1PeLD...</td>\n",
       "      <td>http://books.google.com/books?id=1PeLDQAAQBAJ&amp;...</td>\n",
       "      <td>Random House Trade Paperbacks</td>\n",
       "      <td>2014-07-29</td>\n",
       "      <td>http://books.google.com/books?id=1PeLDQAAQBAJ&amp;...</td>\n",
       "      <td>['Biography &amp; Autobiography']</td>\n",
       "      <td>4572.0</td>\n",
       "    </tr>\n",
       "    <tr>\n",
       "      <th>62005</th>\n",
       "      <td>A Mission to Millions; The Story of Ernie Alle...</td>\n",
       "      <td>#1 NEW YORK TIMES BESTSELLER • NOW A MAJOR MOT...</td>\n",
       "      <td>['Laura Hillenbrand']</td>\n",
       "      <td>http://books.google.com/books/content?id=1PeLD...</td>\n",
       "      <td>http://books.google.com/books?id=1PeLDQAAQBAJ&amp;...</td>\n",
       "      <td>Random House Trade Paperbacks</td>\n",
       "      <td>2014-07-29</td>\n",
       "      <td>http://books.google.com/books?id=1PeLDQAAQBAJ&amp;...</td>\n",
       "      <td>['Biography &amp; Autobiography']</td>\n",
       "      <td>4572.0</td>\n",
       "    </tr>\n",
       "    <tr>\n",
       "      <th>128081</th>\n",
       "      <td>Blue Like Jazz: Nonreligious Thoughts on Chris...</td>\n",
       "      <td>A popular minister recounts his zealous early ...</td>\n",
       "      <td>['Donald Miller']</td>\n",
       "      <td>http://books.google.com/books/content?id=fNC3f...</td>\n",
       "      <td>http://books.google.nl/books?id=fNC3fdxYgZMC&amp;p...</td>\n",
       "      <td>Thomas Nelson Inc</td>\n",
       "      <td>2012-04</td>\n",
       "      <td>http://books.google.nl/books?id=fNC3fdxYgZMC&amp;d...</td>\n",
       "      <td>['Biography &amp; Autobiography']</td>\n",
       "      <td>4562.0</td>\n",
       "    </tr>\n",
       "    <tr>\n",
       "      <th>57822</th>\n",
       "      <td>Eclipse</td>\n",
       "      <td>As the love triangle heats up in the third boo...</td>\n",
       "      <td>['Stephenie Meyer']</td>\n",
       "      <td>http://books.google.com/books/content?id=lw99O...</td>\n",
       "      <td>http://books.google.com/books?id=lw99Oii9R90C&amp;...</td>\n",
       "      <td>Little, Brown Books for Young Readers</td>\n",
       "      <td>2007-08-07</td>\n",
       "      <td>https://play.google.com/store/books/details?id...</td>\n",
       "      <td>['Young Adult Fiction']</td>\n",
       "      <td>4392.0</td>\n",
       "    </tr>\n",
       "  </tbody>\n",
       "</table>\n",
       "</div>"
      ],
      "text/plain": [
       "                                                    Title  \\\n",
       "26834                                       The Alchemist   \n",
       "76345                                            Unbroken   \n",
       "62005   A Mission to Millions; The Story of Ernie Alle...   \n",
       "128081  Blue Like Jazz: Nonreligious Thoughts on Chris...   \n",
       "57822                                             Eclipse   \n",
       "\n",
       "                                              description  \\\n",
       "26834   \"My heart is afraid that it will have to suffe...   \n",
       "76345   #1 NEW YORK TIMES BESTSELLER • NOW A MAJOR MOT...   \n",
       "62005   #1 NEW YORK TIMES BESTSELLER • NOW A MAJOR MOT...   \n",
       "128081  A popular minister recounts his zealous early ...   \n",
       "57822   As the love triangle heats up in the third boo...   \n",
       "\n",
       "                      authors  \\\n",
       "26834        ['Paulo Coelho']   \n",
       "76345   ['Laura Hillenbrand']   \n",
       "62005   ['Laura Hillenbrand']   \n",
       "128081      ['Donald Miller']   \n",
       "57822     ['Stephenie Meyer']   \n",
       "\n",
       "                                                    image  \\\n",
       "26834   http://books.google.com/books/content?id=pTr44...   \n",
       "76345   http://books.google.com/books/content?id=1PeLD...   \n",
       "62005   http://books.google.com/books/content?id=1PeLD...   \n",
       "128081  http://books.google.com/books/content?id=fNC3f...   \n",
       "57822   http://books.google.com/books/content?id=lw99O...   \n",
       "\n",
       "                                              previewLink  \\\n",
       "26834   http://books.google.com/books?id=pTr44Sx6oWQC&...   \n",
       "76345   http://books.google.com/books?id=1PeLDQAAQBAJ&...   \n",
       "62005   http://books.google.com/books?id=1PeLDQAAQBAJ&...   \n",
       "128081  http://books.google.nl/books?id=fNC3fdxYgZMC&p...   \n",
       "57822   http://books.google.com/books?id=lw99Oii9R90C&...   \n",
       "\n",
       "                                    publisher publishedDate  \\\n",
       "26834                          Harper Collins    2006-04-25   \n",
       "76345           Random House Trade Paperbacks    2014-07-29   \n",
       "62005           Random House Trade Paperbacks    2014-07-29   \n",
       "128081                      Thomas Nelson Inc       2012-04   \n",
       "57822   Little, Brown Books for Young Readers    2007-08-07   \n",
       "\n",
       "                                                 infoLink  \\\n",
       "26834   http://books.google.com/books?id=pTr44Sx6oWQC&...   \n",
       "76345   http://books.google.com/books?id=1PeLDQAAQBAJ&...   \n",
       "62005   http://books.google.com/books?id=1PeLDQAAQBAJ&...   \n",
       "128081  http://books.google.nl/books?id=fNC3fdxYgZMC&d...   \n",
       "57822   https://play.google.com/store/books/details?id...   \n",
       "\n",
       "                           categories  ratingsCount  \n",
       "26834                     ['Fiction']        4895.0  \n",
       "76345   ['Biography & Autobiography']        4572.0  \n",
       "62005   ['Biography & Autobiography']        4572.0  \n",
       "128081  ['Biography & Autobiography']        4562.0  \n",
       "57822         ['Young Adult Fiction']        4392.0  "
      ]
     },
     "execution_count": 18,
     "metadata": {},
     "output_type": "execute_result"
    }
   ],
   "source": [
    "df_books[df_books[\"ratingsCount\"].isna() == False].sort_values(\"ratingsCount\", ascending=False).head() "
   ]
  },
  {
   "cell_type": "code",
   "execution_count": 26,
   "metadata": {},
   "outputs": [
    {
     "data": {
      "text/html": [
       "<div>\n",
       "<style scoped>\n",
       "    .dataframe tbody tr th:only-of-type {\n",
       "        vertical-align: middle;\n",
       "    }\n",
       "\n",
       "    .dataframe tbody tr th {\n",
       "        vertical-align: top;\n",
       "    }\n",
       "\n",
       "    .dataframe thead th {\n",
       "        text-align: right;\n",
       "    }\n",
       "</style>\n",
       "<table border=\"1\" class=\"dataframe\">\n",
       "  <thead>\n",
       "    <tr style=\"text-align: right;\">\n",
       "      <th></th>\n",
       "      <th>Title</th>\n",
       "      <th>description</th>\n",
       "      <th>authors</th>\n",
       "      <th>image</th>\n",
       "      <th>previewLink</th>\n",
       "      <th>publisher</th>\n",
       "      <th>publishedDate</th>\n",
       "      <th>infoLink</th>\n",
       "      <th>categories</th>\n",
       "      <th>ratingsCount</th>\n",
       "    </tr>\n",
       "  </thead>\n",
       "  <tbody>\n",
       "    <tr>\n",
       "      <th>77196</th>\n",
       "      <td>War and Peace</td>\n",
       "      <td>Covering the period from the French invasion u...</td>\n",
       "      <td>['Leo Tolstoy']</td>\n",
       "      <td>http://books.google.com/books/content?id=W5_iD...</td>\n",
       "      <td>http://books.google.com/books?id=W5_iDQAAQBAJ&amp;...</td>\n",
       "      <td>Lulu.com</td>\n",
       "      <td>2016-12-23</td>\n",
       "      <td>http://books.google.com/books?id=W5_iDQAAQBAJ&amp;...</td>\n",
       "      <td>['Fiction']</td>\n",
       "      <td>NaN</td>\n",
       "    </tr>\n",
       "  </tbody>\n",
       "</table>\n",
       "</div>"
      ],
      "text/plain": [
       "               Title                                        description  \\\n",
       "77196  War and Peace  Covering the period from the French invasion u...   \n",
       "\n",
       "               authors                                              image  \\\n",
       "77196  ['Leo Tolstoy']  http://books.google.com/books/content?id=W5_iD...   \n",
       "\n",
       "                                             previewLink publisher  \\\n",
       "77196  http://books.google.com/books?id=W5_iDQAAQBAJ&...  Lulu.com   \n",
       "\n",
       "      publishedDate                                           infoLink  \\\n",
       "77196    2016-12-23  http://books.google.com/books?id=W5_iDQAAQBAJ&...   \n",
       "\n",
       "        categories  ratingsCount  \n",
       "77196  ['Fiction']           NaN  "
      ]
     },
     "execution_count": 26,
     "metadata": {},
     "output_type": "execute_result"
    }
   ],
   "source": [
    "df_books[df_books[\"Title\"] == \"War and Peace\"]"
   ]
  },
  {
   "cell_type": "code",
   "execution_count": 12,
   "metadata": {},
   "outputs": [
    {
     "ename": "ModuleNotFoundError",
     "evalue": "No module named 'transformers'",
     "output_type": "error",
     "traceback": [
      "\u001b[1;31m---------------------------------------------------------------------------\u001b[0m",
      "\u001b[1;31mModuleNotFoundError\u001b[0m                       Traceback (most recent call last)",
      "Cell \u001b[1;32mIn[12], line 3\u001b[0m\n\u001b[0;32m      1\u001b[0m \u001b[38;5;28;01mimport\u001b[39;00m \u001b[38;5;21;01mtorch\u001b[39;00m\n\u001b[0;32m      2\u001b[0m \u001b[38;5;28;01mimport\u001b[39;00m \u001b[38;5;21;01mtorch\u001b[39;00m\u001b[38;5;21;01m.\u001b[39;00m\u001b[38;5;21;01mnn\u001b[39;00m \u001b[38;5;28;01mas\u001b[39;00m \u001b[38;5;21;01mnn\u001b[39;00m\n\u001b[1;32m----> 3\u001b[0m \u001b[38;5;28;01mfrom\u001b[39;00m \u001b[38;5;21;01mtransformers\u001b[39;00m \u001b[38;5;28;01mimport\u001b[39;00m AutoModel, AutoTokenizer\n\u001b[0;32m      5\u001b[0m \u001b[38;5;28;01mclass\u001b[39;00m \u001b[38;5;21;01mBookEmbedding\u001b[39;00m(nn\u001b[38;5;241m.\u001b[39mModule):\n\u001b[0;32m      6\u001b[0m     \u001b[38;5;28;01mdef\u001b[39;00m \u001b[38;5;21m__init__\u001b[39m(\u001b[38;5;28mself\u001b[39m, vocab_size, author_size, category_size, embed_dim, max_len):\n",
      "\u001b[1;31mModuleNotFoundError\u001b[0m: No module named 'transformers'"
     ]
    }
   ],
   "source": [
    "import torch\n",
    "import torch.nn as nn\n",
    "from transformers import AutoModel, AutoTokenizer\n",
    "\n",
    "class BookEmbedding(nn.Module):\n",
    "    def __init__(self, vocab_size, author_size, category_size, embed_dim, max_len):\n",
    "        super().__init__()\n",
    "        \n",
    "        # Текстовый эмбеддер (используем предобученную трансформерную модель)\n",
    "        self.text_model = AutoModel.from_pretrained(\"sentence-transformers/all-MiniLM-L6-v2\")\n",
    "        self.tokenizer = AutoTokenizer.from_pretrained(\"sentence-transformers/all-MiniLM-L6-v2\")\n",
    "        self.text_proj = nn.Linear(384, embed_dim)  # Преобразуем размерность эмбеддинга\n",
    "\n",
    "        # Эмбеддинги авторов и категорий\n",
    "        self.author_embedding = nn.Embedding(author_size, embed_dim)\n",
    "        self.category_embedding = nn.Embedding(category_size, embed_dim)\n",
    "\n",
    "        # Рейтинги (нормализуем и добавляем линейный слой)\n",
    "        self.rating_proj = nn.Linear(2, embed_dim)  # [средний рейтинг, кол-во оценок]\n",
    "\n",
    "        # Позиционные эмбеддинги\n",
    "        self.position_embedding = nn.Embedding(max_len, embed_dim)\n",
    "\n",
    "    def forward(self, book_ids, authors, categories, descriptions, ratings, positions):\n",
    "        # Текстовый эмбеддинг\n",
    "        tokens = self.tokenizer(descriptions, padding=True, truncation=True, return_tensors=\"pt\")\n",
    "        text_embeds = self.text_model(**tokens).pooler_output  # Получаем эмбеддинг текста\n",
    "        text_embeds = self.text_proj(text_embeds)\n",
    "\n",
    "        # Эмбеддинги авторов и категорий\n",
    "        author_embeds = self.author_embedding(authors)\n",
    "        category_embeds = self.category_embedding(categories)\n",
    "\n",
    "        # Обрабатываем рейтинги\n",
    "        rating_embeds = self.rating_proj(ratings)\n",
    "\n",
    "        # Позиционные эмбеддинги\n",
    "        pos_embeds = self.position_embedding(positions)\n",
    "\n",
    "        # Финальный эмбеддинг книги\n",
    "        book_embeds = text_embeds + author_embeds + category_embeds + rating_embeds + pos_embeds\n",
    "        return book_embeds\n"
   ]
  }
 ],
 "metadata": {
  "kernelspec": {
   "display_name": "Python (books)",
   "language": "python",
   "name": "books"
  },
  "language_info": {
   "codemirror_mode": {
    "name": "ipython",
    "version": 3
   },
   "file_extension": ".py",
   "mimetype": "text/x-python",
   "name": "python",
   "nbconvert_exporter": "python",
   "pygments_lexer": "ipython3",
   "version": "3.10.16"
  }
 },
 "nbformat": 4,
 "nbformat_minor": 2
}
