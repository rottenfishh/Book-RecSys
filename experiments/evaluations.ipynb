{
 "cells": [
  {
   "cell_type": "code",
   "execution_count": 1,
   "metadata": {},
   "outputs": [],
   "source": [
    "import sys\n",
    "import os\n",
    "\n",
    "PROJECT_ROOT = os.path.abspath(os.path.join(os.getcwd(), \"..\"))\n",
    "if PROJECT_ROOT not in sys.path:\n",
    "    sys.path.insert(0, PROJECT_ROOT)"
   ]
  },
  {
   "cell_type": "code",
   "execution_count": null,
   "metadata": {},
   "outputs": [
    {
     "name": "stdout",
     "output_type": "stream",
     "text": [
      "For book King Lear found 18 intersections with n = 1000\n",
      "For book King Lear found 9 intersections with 10 best recommendations and n = 1000\n",
      "For book Anna Karenina found 0 intersections with n = 1000\n",
      "For book Anna Karenina found 0 intersections with 10 best recommendations and n = 1000\n",
      "For book 1984 found 8 intersections with n = 1000\n",
      "For book 1984 found 4 intersections with 10 best recommendations and n = 1000\n",
      "Green Book not found\n",
      "For book Moby-Dick found 16 intersections with n = 1000\n",
      "For book Moby-Dick found 5 intersections with 10 best recommendations and n = 1000\n",
      "For book Pride and Prejudice found 25 intersections with n = 1000\n",
      "For book Pride and Prejudice found 10 intersections with 10 best recommendations and n = 1000\n",
      "For book The Catcher in the Rye found 14 intersections with n = 1000\n",
      "For book The Catcher in the Rye found 6 intersections with 10 best recommendations and n = 1000\n",
      "For book The Great Gatsby found 3 intersections with n = 1000\n",
      "For book The Great Gatsby found 1 intersections with 10 best recommendations and n = 1000\n",
      "For book Crime and Punishment found 9 intersections with n = 1000\n",
      "For book Crime and Punishment found 6 intersections with 10 best recommendations and n = 1000\n",
      "For book Don Quixote found 5 intersections with n = 1000\n",
      "For book Don Quixote found 3 intersections with 10 best recommendations and n = 1000\n",
      "For book The Brothers Karamazov found 11 intersections with n = 1000\n",
      "For book The Brothers Karamazov found 7 intersections with 10 best recommendations and n = 1000\n",
      "For book The Picture of Dorian Gray found 9 intersections with n = 1000\n",
      "For book The Picture of Dorian Gray found 7 intersections with 10 best recommendations and n = 1000\n"
     ]
    }
   ],
   "source": [
    "from src.evaluation import RecallKTitles\n",
    "from src.models.modules import BookDescriptionEmbeddingSimilarity\n",
    "\n",
    "\n",
    "k = 1000\n",
    "recs_path = os.path.join(PROJECT_ROOT, \"data/test_data/tests.json\")\n",
    "model_path = os.path.join(PROJECT_ROOT, \"data/embeddings/books_embeddings_dataset.npy\")\n",
    "dataset_path = os.path.join(PROJECT_ROOT, \"data/raw_data/LEHABOOKS.csv\")\n",
    "model = BookDescriptionEmbeddingSimilarity(model_path)\n",
    "recs = RecallKTitles(k, recs_path, model, dataset_path)\n",
    "recs.evaluate()"
   ]
  }
 ],
 "metadata": {
  "kernelspec": {
   "display_name": "Python (books)",
   "language": "python",
   "name": "books"
  },
  "language_info": {
   "codemirror_mode": {
    "name": "ipython",
    "version": 3
   },
   "file_extension": ".py",
   "mimetype": "text/x-python",
   "name": "python",
   "nbconvert_exporter": "python",
   "pygments_lexer": "ipython3",
   "version": "3.10.16"
  }
 },
 "nbformat": 4,
 "nbformat_minor": 2
}
